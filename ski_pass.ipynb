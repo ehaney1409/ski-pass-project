{
 "cells": [
  {
   "cell_type": "code",
   "execution_count": null,
   "id": "a9074e83",
   "metadata": {},
   "outputs": [],
   "source": [
    "#upload datasets from kaggle (https://www.kaggle.com/datasets/graysonhineline/epic-and-ikon-ski-resorts-data)\n",
    "#import the necessary libraries\n",
    "import pandas as pd\n",
    "#turn the datasets into dataframes for manipulation\n",
    "df1 = pd.read_csv('annualsnow.csv')\n",
    "df2 = pd.read_csv('skiresorts.csv')\n",
    "df3 = pd.read_csv('currentseason.csv')\n",
    "print(df1)"
   ]
  },
  {
   "cell_type": "code",
   "execution_count": null,
   "id": "a16160dd",
   "metadata": {},
   "outputs": [],
   "source": [
    "#summary statistics\n",
    "df1.describe()"
   ]
  },
  {
   "cell_type": "code",
   "execution_count": null,
   "id": "2f954ba4",
   "metadata": {},
   "outputs": [],
   "source": [
    "#count the location of ikon and epic ski resorts\n",
    "df1['Location'].value_counts(ascending=True)"
   ]
  },
  {
   "cell_type": "code",
   "execution_count": null,
   "id": "6dba0d38",
   "metadata": {},
   "outputs": [],
   "source": [
    "#exclude the locations that are outside of north america to avoid metric units\n",
    "exclude = (\"trentino\", \"northern-alps\", \"valais\")\n",
    "df4 = df1[~(df1[\"Location\"].isin(exclude))]"
   ]
  },
  {
   "cell_type": "code",
   "execution_count": null,
   "id": "d5a9edd7",
   "metadata": {},
   "outputs": [],
   "source": [
    "print(df4)"
   ]
  },
  {
   "cell_type": "code",
   "execution_count": null,
   "id": "312b0090",
   "metadata": {},
   "outputs": [],
   "source": [
    "#remove the brackets representing inches\n",
    "df4 = df4.replace({'\"':''}, regex=True)\n",
    "print(df4)"
   ]
  },
  {
   "cell_type": "code",
   "execution_count": null,
   "id": "0b412236",
   "metadata": {},
   "outputs": [],
   "source": [
    "#order the number of snowfall days from least to greatest\n",
    "df4.sort_values(by=['Snowfall Days'],ascending=[True],inplace=False)"
   ]
  },
  {
   "cell_type": "code",
   "execution_count": null,
   "id": "d84bb602",
   "metadata": {},
   "outputs": [],
   "source": [
    "#convert the values of 'resort' to lowercase\n",
    "df4['Resort'] = df4['Resort'].str.lower()"
   ]
  },
  {
   "cell_type": "code",
   "execution_count": null,
   "id": "db972e14",
   "metadata": {
    "scrolled": true
   },
   "outputs": [],
   "source": [
    "#convert the values of 'pass' to lowercase\n",
    "df4['Pass'] = df4['Pass'].str.lower()\n",
    "print(df4)"
   ]
  },
  {
   "cell_type": "code",
   "execution_count": null,
   "id": "0b3a5dae",
   "metadata": {},
   "outputs": [],
   "source": [
    "#convert range of years in year column to just opening year\n",
    "df4['Year'] = df4['Year'].str[:4]\n",
    "print(df4)"
   ]
  },
  {
   "cell_type": "code",
   "execution_count": null,
   "id": "27feff8e",
   "metadata": {},
   "outputs": [],
   "source": [
    "#replace any null values with NaN\n",
    "df4 = df4.replace(r'^\\s*$', np.nan, regex=True)"
   ]
  },
  {
   "cell_type": "code",
   "execution_count": null,
   "id": "003a018d",
   "metadata": {
    "scrolled": true
   },
   "outputs": [],
   "source": [
    "#excluding the cities outside of north america for second dataframe\n",
    "exclude = (\"trentino\", \"northern-alps\", \"valais\")\n",
    "df5 = df2[~(df2[\"Location\"].isin(exclude))]\n",
    "print(df5)"
   ]
  },
  {
   "cell_type": "code",
   "execution_count": null,
   "id": "70d90fa8",
   "metadata": {},
   "outputs": [],
   "source": [
    "#remove the brackets and columns representing inches and feet\n",
    "df5 = df5.replace({'\"':''}, regex=True)\n",
    "df5 = df5.replace({\"'\":\"\"}, regex=True)\n",
    "print(df5)"
   ]
  },
  {
   "cell_type": "code",
   "execution_count": null,
   "id": "3817e29a",
   "metadata": {},
   "outputs": [],
   "source": [
    "#convert the values of 'resort' to lowercase\n",
    "df5['Resort'] = df5['Resort'].str.lower()"
   ]
  },
  {
   "cell_type": "code",
   "execution_count": null,
   "id": "a6e9bb5d",
   "metadata": {},
   "outputs": [],
   "source": [
    "#convert the values of 'pass' to lowercase\n",
    "df5['Pass'] = df5['Pass'].str.lower()\n",
    "print(df5)"
   ]
  },
  {
   "cell_type": "code",
   "execution_count": null,
   "id": "e1ea4ec0",
   "metadata": {},
   "outputs": [],
   "source": [
    "#drop columns in the dataframe that have messy data that may impact analysis\n",
    "df5.drop('Projected Opening', axis=1, inplace=True)\n",
    "df5.drop('Projected Closing', axis=1, inplace=True)\n",
    "df5.drop('Runs in Total', axis=1, inplace=True)\n",
    "df5.drop('Snow Making', axis=1, inplace=True)\n",
    "print(df5)"
   ]
  },
  {
   "cell_type": "code",
   "execution_count": null,
   "id": "72fe898b",
   "metadata": {
    "scrolled": true
   },
   "outputs": [],
   "source": [
    "#remove units ac and mi so the columns can be uploaded as numeric\n",
    "df5['Skiable Terrain'] = df5['Skiable Terrain'].str.replace('ac','')\n",
    "df5['Longest Run'] = df5['Longest Run'].str.replace('mi','')\n",
    "df5['Night Skiing'] = df5['Night Skiing'].str.replace('ac','')\n",
    "print(df5)"
   ]
  },
  {
   "cell_type": "code",
   "execution_count": null,
   "id": "39d7be44",
   "metadata": {},
   "outputs": [],
   "source": [
    "#convert the percentage of runs into decimals which will be easier to visualize\n",
    "df5['Beginners Runs'] = df5['Beginners Runs'].str.replace(r'%', r'.0').astype('float') / 100.0\n",
    "df5['Intermediate Runs'] = df5['Intermediate Runs'].str.replace(r'%', r'.0').astype('float') / 100.0\n",
    "df5['Advanced Runs'] = df5['Advanced Runs'].str.replace(r'%', r'.0').astype('float') / 100.0\n",
    "df5['Expert Runs'] = df5['Expert Runs'].str.replace(r'%', r'.0').astype('float') / 100.0\n",
    "print(df5)"
   ]
  },
  {
   "cell_type": "code",
   "execution_count": null,
   "id": "47d8f407",
   "metadata": {
    "scrolled": true
   },
   "outputs": [],
   "source": [
    "#replace all instances of N.A. with NaN\n",
    "df5= df5.replace('N.A.', np.nan)"
   ]
  },
  {
   "cell_type": "code",
   "execution_count": null,
   "id": "6c51c45c",
   "metadata": {
    "scrolled": true
   },
   "outputs": [],
   "source": [
    "#excluding the cities outside of north america for third dataframe\n",
    "exclude = (\"trentino\", \"northern-alps\", \"valais\")\n",
    "df6 = df3[~(df3[\"Location\"].isin(exclude))]\n",
    "print(df6)"
   ]
  },
  {
   "cell_type": "code",
   "execution_count": null,
   "id": "9b77c539",
   "metadata": {},
   "outputs": [],
   "source": [
    "#remove the brackets representing inche\n",
    "df6 = df6.replace({'\"':''}, regex=True)\n",
    "print(df6)"
   ]
  },
  {
   "cell_type": "code",
   "execution_count": null,
   "id": "067f01a9",
   "metadata": {},
   "outputs": [],
   "source": [
    "#convert the values of 'resort' to lowercase\n",
    "df6['Resort'] = df6['Resort'].str.lower()"
   ]
  },
  {
   "cell_type": "code",
   "execution_count": null,
   "id": "15d0ee22",
   "metadata": {},
   "outputs": [],
   "source": [
    "#convert the values of 'pass' to lowercase\n",
    "df6['Pass'] = df6['Pass'].str.lower()\n",
    "#convert the values of 'pass' to lowercase\n",
    "df6['Month'] = df6['Month'].str.lower()"
   ]
  },
  {
   "cell_type": "code",
   "execution_count": null,
   "id": "7fca2406",
   "metadata": {
    "scrolled": true
   },
   "outputs": [],
   "source": [
    "#replace all instances of N.A. with NaN\n",
    "df6= df6.replace('N.A.', np.nan)\n",
    "print(df6)"
   ]
  },
  {
   "cell_type": "code",
   "execution_count": null,
   "id": "a58f1578",
   "metadata": {},
   "outputs": [],
   "source": [
    "#export the dataframes to csv files without indeces\n",
    "df4.to_csv('new_annualsnow.csv', index=False)\n",
    "df5.to_csv('new_skiresorts.csv', index=False)\n",
    "df6.to_csv('new_currentseason.csv', index=False)"
   ]
  },
  {
   "cell_type": "code",
   "execution_count": null,
   "id": "f2718044",
   "metadata": {},
   "outputs": [],
   "source": []
  },
  {
   "cell_type": "code",
   "execution_count": null,
   "id": "876687f4",
   "metadata": {},
   "outputs": [],
   "source": []
  },
  {
   "cell_type": "code",
   "execution_count": null,
   "id": "c6a70860",
   "metadata": {},
   "outputs": [],
   "source": []
  }
 ],
 "metadata": {
  "kernelspec": {
   "display_name": "Python 3 (ipykernel)",
   "language": "python",
   "name": "python3"
  },
  "language_info": {
   "codemirror_mode": {
    "name": "ipython",
    "version": 3
   },
   "file_extension": ".py",
   "mimetype": "text/x-python",
   "name": "python",
   "nbconvert_exporter": "python",
   "pygments_lexer": "ipython3",
   "version": "3.9.7"
  }
 },
 "nbformat": 4,
 "nbformat_minor": 5
}
